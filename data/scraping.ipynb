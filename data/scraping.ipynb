{
 "cells": [
  {
   "cell_type": "code",
   "execution_count": 1,
   "metadata": {},
   "outputs": [],
   "source": [
    "import requests\n",
    "import json\n",
    "from tqdm import tqdm\n",
    "import pandas as pd"
   ]
  },
  {
   "cell_type": "code",
   "execution_count": 2,
   "metadata": {},
   "outputs": [],
   "source": [
    "def request_process_geojson(url, max_range, directory):\n",
    "    df = pd.DataFrame()\n",
    "    for i in tqdm(range(1, max_range+1), desc=f'downloading {directory}...'):\n",
    "        try:\n",
    "            response = requests.get(f'{url}{str(i)}?f=pjson')\n",
    "            attribute = response.json()\n",
    "\n",
    "            # Serializing json\n",
    "            json_object = json.dumps(attribute, indent=4)\n",
    "            \n",
    "            # Writing to sample.json\n",
    "            with open(f\"{directory}/{i}.json\", \"w\") as outfile:\n",
    "                outfile.write(json_object)\n",
    "        except Exception as e:\n",
    "            print(e)\n",
    "\n",
    "    #     df = pd.concat([df, pd.DataFrame(attribute, index=[0])])\n",
    "    # df.reset_index(drop=True, inplace=True)\n",
    "    # df.to_csv(f'{directory}_data_directory.csv', index=False)\n",
    "    return df\n",
    "\n",
    "def get_negeri():\n",
    "    try:\n",
    "        url = 'https://maps.dosm.gov.my/dosm/rest/services/StatsGeo_asal/MapServer/1/'\n",
    "        max_range = 16\n",
    "        url = 'https://scharms.planmalaysia.gov.my/arcgis/rest/services/SCHARMS/Demarcation/MapServer/0/'\n",
    "        max_range = 14\n",
    "        directory = 'plan_malaysia_data/negeri'\n",
    "        return request_process_geojson(url=url, max_range=max_range, directory=directory)\n",
    "    except Exception as e:\n",
    "        print(e)\n",
    "\n",
    "def get_daerah():\n",
    "    try:\n",
    "        url = 'https://maps.dosm.gov.my/dosm/rest/services/StatsGeo_asal/MapServer/2/'\n",
    "        max_range = 160\n",
    "        url = 'https://scharms.planmalaysia.gov.my/arcgis/rest/services/SCHARMS/Demarcation/MapServer/1/'\n",
    "        max_range = 94\n",
    "        directory = 'plan_malaysia_data/daerah'\n",
    "        return request_process_geojson(url=url, max_range=max_range, directory=directory)\n",
    "    except Exception as e:\n",
    "        print(e)\n",
    "\n",
    "def get_mukim():\n",
    "    try:\n",
    "        url = 'https://maps.dosm.gov.my/dosm/rest/services/StatsGeo_asal/MapServer/3/'\n",
    "        max_range = 1784\n",
    "        url = 'https://scharms.planmalaysia.gov.my/arcgis/rest/services/SCHARMS/Demarcation/MapServer/2/'\n",
    "        max_range = 1730\n",
    "        directory = 'plan_malaysia_data/mukim/'\n",
    "        return request_process_geojson(url=url, max_range=max_range, directory=directory)\n",
    "    except Exception as e:\n",
    "        print(e)"
   ]
  },
  {
   "cell_type": "code",
   "execution_count": 3,
   "metadata": {},
   "outputs": [
    {
     "name": "stderr",
     "output_type": "stream",
     "text": [
      "downloading plan_malaysia_data/negeri...: 100%|██████████| 14/14 [00:12<00:00,  1.10it/s]\n"
     ]
    },
    {
     "data": {
      "text/html": [
       "<div>\n",
       "<style scoped>\n",
       "    .dataframe tbody tr th:only-of-type {\n",
       "        vertical-align: middle;\n",
       "    }\n",
       "\n",
       "    .dataframe tbody tr th {\n",
       "        vertical-align: top;\n",
       "    }\n",
       "\n",
       "    .dataframe thead th {\n",
       "        text-align: right;\n",
       "    }\n",
       "</style>\n",
       "<table border=\"1\" class=\"dataframe\">\n",
       "  <thead>\n",
       "    <tr style=\"text-align: right;\">\n",
       "      <th></th>\n",
       "    </tr>\n",
       "  </thead>\n",
       "  <tbody>\n",
       "  </tbody>\n",
       "</table>\n",
       "</div>"
      ],
      "text/plain": [
       "Empty DataFrame\n",
       "Columns: []\n",
       "Index: []"
      ]
     },
     "execution_count": 3,
     "metadata": {},
     "output_type": "execute_result"
    }
   ],
   "source": [
    "get_negeri()"
   ]
  },
  {
   "cell_type": "code",
   "execution_count": 4,
   "metadata": {},
   "outputs": [
    {
     "name": "stderr",
     "output_type": "stream",
     "text": [
      "downloading plan_malaysia_data/daerah...: 100%|██████████| 94/94 [00:31<00:00,  2.98it/s]\n"
     ]
    },
    {
     "data": {
      "text/html": [
       "<div>\n",
       "<style scoped>\n",
       "    .dataframe tbody tr th:only-of-type {\n",
       "        vertical-align: middle;\n",
       "    }\n",
       "\n",
       "    .dataframe tbody tr th {\n",
       "        vertical-align: top;\n",
       "    }\n",
       "\n",
       "    .dataframe thead th {\n",
       "        text-align: right;\n",
       "    }\n",
       "</style>\n",
       "<table border=\"1\" class=\"dataframe\">\n",
       "  <thead>\n",
       "    <tr style=\"text-align: right;\">\n",
       "      <th></th>\n",
       "    </tr>\n",
       "  </thead>\n",
       "  <tbody>\n",
       "  </tbody>\n",
       "</table>\n",
       "</div>"
      ],
      "text/plain": [
       "Empty DataFrame\n",
       "Columns: []\n",
       "Index: []"
      ]
     },
     "execution_count": 4,
     "metadata": {},
     "output_type": "execute_result"
    }
   ],
   "source": [
    "get_daerah()"
   ]
  },
  {
   "cell_type": "code",
   "execution_count": 5,
   "metadata": {},
   "outputs": [
    {
     "name": "stderr",
     "output_type": "stream",
     "text": [
      "downloading plan_malaysia_data/mukim/...: 100%|██████████| 1730/1730 [05:27<00:00,  5.28it/s]\n"
     ]
    },
    {
     "data": {
      "text/html": [
       "<div>\n",
       "<style scoped>\n",
       "    .dataframe tbody tr th:only-of-type {\n",
       "        vertical-align: middle;\n",
       "    }\n",
       "\n",
       "    .dataframe tbody tr th {\n",
       "        vertical-align: top;\n",
       "    }\n",
       "\n",
       "    .dataframe thead th {\n",
       "        text-align: right;\n",
       "    }\n",
       "</style>\n",
       "<table border=\"1\" class=\"dataframe\">\n",
       "  <thead>\n",
       "    <tr style=\"text-align: right;\">\n",
       "      <th></th>\n",
       "    </tr>\n",
       "  </thead>\n",
       "  <tbody>\n",
       "  </tbody>\n",
       "</table>\n",
       "</div>"
      ],
      "text/plain": [
       "Empty DataFrame\n",
       "Columns: []\n",
       "Index: []"
      ]
     },
     "execution_count": 5,
     "metadata": {},
     "output_type": "execute_result"
    }
   ],
   "source": [
    "get_mukim()"
   ]
  },
  {
   "cell_type": "code",
   "execution_count": null,
   "metadata": {},
   "outputs": [],
   "source": []
  }
 ],
 "metadata": {
  "kernelspec": {
   "display_name": "base",
   "language": "python",
   "name": "python3"
  },
  "language_info": {
   "codemirror_mode": {
    "name": "ipython",
    "version": 3
   },
   "file_extension": ".py",
   "mimetype": "text/x-python",
   "name": "python",
   "nbconvert_exporter": "python",
   "pygments_lexer": "ipython3",
   "version": "3.9.13"
  },
  "orig_nbformat": 4
 },
 "nbformat": 4,
 "nbformat_minor": 2
}
